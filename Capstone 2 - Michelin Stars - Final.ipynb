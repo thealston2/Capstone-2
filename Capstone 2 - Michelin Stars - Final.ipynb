{
 "cells": [
  {
   "cell_type": "code",
   "execution_count": 8,
   "id": "b5544df3",
   "metadata": {},
   "outputs": [],
   "source": [
    "import matplotlib.pyplot as plt\n",
    "import pandas as pd\n",
    "import seaborn as sns\n",
    "\n",
    "df = pd.read_csv(\"C:/Users/Alston/Desktop/Capstone 2/michelin_my_maps.csv\")"
   ]
  },
  {
   "cell_type": "code",
   "execution_count": 9,
   "id": "3026f46f",
   "metadata": {},
   "outputs": [
    {
     "data": {
      "text/html": [
       "<div>\n",
       "<style scoped>\n",
       "    .dataframe tbody tr th:only-of-type {\n",
       "        vertical-align: middle;\n",
       "    }\n",
       "\n",
       "    .dataframe tbody tr th {\n",
       "        vertical-align: top;\n",
       "    }\n",
       "\n",
       "    .dataframe thead th {\n",
       "        text-align: right;\n",
       "    }\n",
       "</style>\n",
       "<table border=\"1\" class=\"dataframe\">\n",
       "  <thead>\n",
       "    <tr style=\"text-align: right;\">\n",
       "      <th></th>\n",
       "      <th>Name</th>\n",
       "      <th>City</th>\n",
       "      <th>MinPrice</th>\n",
       "      <th>MaxPrice</th>\n",
       "      <th>Currency</th>\n",
       "      <th>Cuisine</th>\n",
       "      <th>Longitude</th>\n",
       "      <th>Latitude</th>\n",
       "      <th>PhoneNumber</th>\n",
       "      <th>Url</th>\n",
       "      <th>WebsiteUrl</th>\n",
       "      <th>Award</th>\n",
       "      <th>Converted MinPrice</th>\n",
       "      <th>Converted MaxPrice</th>\n",
       "      <th>Country</th>\n",
       "      <th>Region</th>\n",
       "    </tr>\n",
       "  </thead>\n",
       "  <tbody>\n",
       "    <tr>\n",
       "      <th>0</th>\n",
       "      <td>Ibaya</td>\n",
       "      <td>Soldeu</td>\n",
       "      <td>110</td>\n",
       "      <td>145</td>\n",
       "      <td>EUR</td>\n",
       "      <td>Creative, Modern Cuisine</td>\n",
       "      <td>1.670949</td>\n",
       "      <td>42.575577</td>\n",
       "      <td>3.768707e+08</td>\n",
       "      <td>https://guide.michelin.com/en/canillo/soldeu/r...</td>\n",
       "      <td>http://www.sporthotels.ad</td>\n",
       "      <td>1 MICHELIN Star</td>\n",
       "      <td>$121.61</td>\n",
       "      <td>$160.30</td>\n",
       "      <td>Andorra</td>\n",
       "      <td>Europe</td>\n",
       "    </tr>\n",
       "    <tr>\n",
       "      <th>1</th>\n",
       "      <td>Celler d'en Toni</td>\n",
       "      <td>Andorra la Vella</td>\n",
       "      <td>72</td>\n",
       "      <td>72</td>\n",
       "      <td>EUR</td>\n",
       "      <td>Contemporary</td>\n",
       "      <td>1.531772</td>\n",
       "      <td>42.507145</td>\n",
       "      <td>3.768628e+08</td>\n",
       "      <td>https://guide.michelin.com/en/andorra-la-vella...</td>\n",
       "      <td>http://www.cellerdentoni.com</td>\n",
       "      <td>Bib Gourmand</td>\n",
       "      <td>$79.60</td>\n",
       "      <td>$79.60</td>\n",
       "      <td>Andorra</td>\n",
       "      <td>Europe</td>\n",
       "    </tr>\n",
       "    <tr>\n",
       "      <th>2</th>\n",
       "      <td>Amador</td>\n",
       "      <td>Vienna</td>\n",
       "      <td>265</td>\n",
       "      <td>265</td>\n",
       "      <td>EUR</td>\n",
       "      <td>Creative, Contemporary</td>\n",
       "      <td>16.358600</td>\n",
       "      <td>48.254011</td>\n",
       "      <td>4.370000e+11</td>\n",
       "      <td>https://guide.michelin.com/en/vienna/wien/rest...</td>\n",
       "      <td>http://www.restaurant-amador.com/</td>\n",
       "      <td>3 MICHELIN Stars</td>\n",
       "      <td>$292.96</td>\n",
       "      <td>$292.96</td>\n",
       "      <td>Austria</td>\n",
       "      <td>Europe</td>\n",
       "    </tr>\n",
       "    <tr>\n",
       "      <th>3</th>\n",
       "      <td>SENNS.Restaurant</td>\n",
       "      <td>Salzburg</td>\n",
       "      <td>85</td>\n",
       "      <td>205</td>\n",
       "      <td>EUR</td>\n",
       "      <td>Creative</td>\n",
       "      <td>13.063449</td>\n",
       "      <td>47.836072</td>\n",
       "      <td>4.370000e+11</td>\n",
       "      <td>https://guide.michelin.com/en/salzburg-region/...</td>\n",
       "      <td>https://www.senns.restaurant/</td>\n",
       "      <td>2 MICHELIN Stars</td>\n",
       "      <td>$93.97</td>\n",
       "      <td>$226.63</td>\n",
       "      <td>Austria</td>\n",
       "      <td>Europe</td>\n",
       "    </tr>\n",
       "    <tr>\n",
       "      <th>4</th>\n",
       "      <td>Ikarus</td>\n",
       "      <td>Salzburg</td>\n",
       "      <td>140</td>\n",
       "      <td>210</td>\n",
       "      <td>EUR</td>\n",
       "      <td>Creative</td>\n",
       "      <td>13.007903</td>\n",
       "      <td>47.793560</td>\n",
       "      <td>4.366222e+09</td>\n",
       "      <td>https://guide.michelin.com/en/salzburg-region/...</td>\n",
       "      <td>https://www.hangar-7.com/</td>\n",
       "      <td>2 MICHELIN Stars</td>\n",
       "      <td>$154.77</td>\n",
       "      <td>$232.16</td>\n",
       "      <td>Austria</td>\n",
       "      <td>Europe</td>\n",
       "    </tr>\n",
       "  </tbody>\n",
       "</table>\n",
       "</div>"
      ],
      "text/plain": [
       "               Name              City MinPrice MaxPrice Currency  \\\n",
       "0             Ibaya            Soldeu      110      145      EUR   \n",
       "1  Celler d'en Toni  Andorra la Vella       72       72      EUR   \n",
       "2            Amador            Vienna      265      265      EUR   \n",
       "3  SENNS.Restaurant          Salzburg       85      205      EUR   \n",
       "4            Ikarus          Salzburg      140      210      EUR   \n",
       "\n",
       "                    Cuisine  Longitude   Latitude   PhoneNumber  \\\n",
       "0  Creative, Modern Cuisine   1.670949  42.575577  3.768707e+08   \n",
       "1              Contemporary   1.531772  42.507145  3.768628e+08   \n",
       "2    Creative, Contemporary  16.358600  48.254011  4.370000e+11   \n",
       "3                  Creative  13.063449  47.836072  4.370000e+11   \n",
       "4                  Creative  13.007903  47.793560  4.366222e+09   \n",
       "\n",
       "                                                 Url  \\\n",
       "0  https://guide.michelin.com/en/canillo/soldeu/r...   \n",
       "1  https://guide.michelin.com/en/andorra-la-vella...   \n",
       "2  https://guide.michelin.com/en/vienna/wien/rest...   \n",
       "3  https://guide.michelin.com/en/salzburg-region/...   \n",
       "4  https://guide.michelin.com/en/salzburg-region/...   \n",
       "\n",
       "                          WebsiteUrl             Award  Converted MinPrice   \\\n",
       "0          http://www.sporthotels.ad   1 MICHELIN Star             $121.61    \n",
       "1       http://www.cellerdentoni.com      Bib Gourmand              $79.60    \n",
       "2  http://www.restaurant-amador.com/  3 MICHELIN Stars             $292.96    \n",
       "3      https://www.senns.restaurant/  2 MICHELIN Stars              $93.97    \n",
       "4          https://www.hangar-7.com/  2 MICHELIN Stars             $154.77    \n",
       "\n",
       "   Converted MaxPrice    Country  Region  \n",
       "0             $160.30    Andorra  Europe  \n",
       "1              $79.60    Andorra  Europe  \n",
       "2             $292.96    Austria  Europe  \n",
       "3             $226.63    Austria  Europe  \n",
       "4             $232.16    Austria  Europe  "
      ]
     },
     "execution_count": 9,
     "metadata": {},
     "output_type": "execute_result"
    }
   ],
   "source": [
    "df.head()"
   ]
  },
  {
   "cell_type": "code",
   "execution_count": 10,
   "id": "80fa8eb3",
   "metadata": {},
   "outputs": [
    {
     "data": {
      "text/plain": [
       "Bib Gourmand        3286\n",
       "1 MICHELIN Star     2608\n",
       "2 MICHELIN Stars     473\n",
       "3 MICHELIN Stars     134\n",
       "Name: Award, dtype: int64"
      ]
     },
     "execution_count": 10,
     "metadata": {},
     "output_type": "execute_result"
    }
   ],
   "source": [
    "star_group = df.Award\n",
    "star_group.value_counts()"
   ]
  },
  {
   "cell_type": "code",
   "execution_count": 11,
   "id": "01a0c05b",
   "metadata": {},
   "outputs": [
    {
     "data": {
      "text/plain": [
       "Bib Gourmand        0.505461\n",
       "1 MICHELIN Star     0.401169\n",
       "2 MICHELIN Stars    0.072758\n",
       "3 MICHELIN Stars    0.020612\n",
       "Name: Award, dtype: float64"
      ]
     },
     "execution_count": 11,
     "metadata": {},
     "output_type": "execute_result"
    }
   ],
   "source": [
    "percentage = star_group.value_counts(normalize=True)\n",
    "percentage"
   ]
  },
  {
   "cell_type": "code",
   "execution_count": 12,
   "id": "b6bd447d",
   "metadata": {
    "scrolled": true
   },
   "outputs": [
    {
     "data": {
      "text/plain": [
       " France            1118\n",
       " Japan              843\n",
       " Italy              628\n",
       " Germany            623\n",
       " United States      563\n",
       " Spain              474\n",
       " United Kingdom     279\n",
       " Belgium            266\n",
       " Switzerland        252\n",
       " Netherlands        226\n",
       "China               190\n",
       " Thailand           165\n",
       " Hong Kong          135\n",
       "Taiwan              124\n",
       " Singapore          118\n",
       " South Korea         91\n",
       " Portugal            69\n",
       " Brazil              53\n",
       " Denmark             42\n",
       " Ireland             37\n",
       " Sweden              31\n",
       " Austria             30\n",
       " Croatia             23\n",
       " Macau               22\n",
       " Luxembourg          20\n",
       " Slovenia            13\n",
       " Norway              13\n",
       " Finland              9\n",
       " Greece               9\n",
       " Malta                9\n",
       " Hungary              7\n",
       " Czech Republic       7\n",
       " Poland               6\n",
       " Andorra              2\n",
       " Serbia               1\n",
       " San Marino           1\n",
       " Iceland              1\n",
       "France                1\n",
       "Name: Country, dtype: int64"
      ]
     },
     "execution_count": 12,
     "metadata": {},
     "output_type": "execute_result"
    }
   ],
   "source": [
    "countries = df.Country.value_counts()\n",
    "countries"
   ]
  },
  {
   "cell_type": "code",
   "execution_count": 13,
   "id": "6658b0c2",
   "metadata": {},
   "outputs": [
    {
     "data": {
      "text/plain": [
       " France            0.171974\n",
       " Japan             0.129672\n",
       " Italy             0.096601\n",
       " Germany           0.095831\n",
       " United States     0.086602\n",
       " Spain             0.072912\n",
       " United Kingdom    0.042916\n",
       " Belgium           0.040917\n",
       " Switzerland       0.038763\n",
       " Netherlands       0.034764\n",
       "China              0.029226\n",
       " Thailand          0.025381\n",
       " Hong Kong         0.020766\n",
       "Taiwan             0.019074\n",
       " Singapore         0.018151\n",
       " South Korea       0.013998\n",
       " Portugal          0.010614\n",
       "Name: Country, dtype: float64"
      ]
     },
     "execution_count": 13,
     "metadata": {},
     "output_type": "execute_result"
    }
   ],
   "source": [
    "countries_percentage = df.Country.value_counts(normalize=True).head(17)\n",
    "countries_percentage"
   ]
  },
  {
   "cell_type": "code",
   "execution_count": 14,
   "id": "cb72af85",
   "metadata": {},
   "outputs": [
    {
     "data": {
      "text/plain": [
       "Europe           4197\n",
       "Asia             1688\n",
       "North America     563\n",
       "South America      53\n",
       "Name: Region, dtype: int64"
      ]
     },
     "execution_count": 14,
     "metadata": {},
     "output_type": "execute_result"
    }
   ],
   "source": [
    "region = df.Region.value_counts()\n",
    "region"
   ]
  },
  {
   "cell_type": "code",
   "execution_count": 15,
   "id": "bb4662d4",
   "metadata": {},
   "outputs": [
    {
     "data": {
      "text/plain": [
       "Europe           0.645593\n",
       "Asia             0.259652\n",
       "North America    0.086602\n",
       "South America    0.008153\n",
       "Name: Region, dtype: float64"
      ]
     },
     "execution_count": 15,
     "metadata": {},
     "output_type": "execute_result"
    }
   ],
   "source": [
    "region_percentage = df.Region.value_counts(normalize=True)\n",
    "region_percentage"
   ]
  },
  {
   "cell_type": "code",
   "execution_count": 68,
   "id": "d100fca9",
   "metadata": {},
   "outputs": [],
   "source": [
    "star1 = (df['Award'] == '1 MICHELIN Star')\n",
    "star2 = (df['Award'] == '2 MICHELIN Star')\n",
    "star3 = (df['Award'] == '3 MICHELIN Star')\n",
    "bib = (df['Award'] == 'Bib Gourmand')\n",
    "\n",
    "michelin_stars = df[star3|star2|star1]\n",
    "bib = df[bib]\n",
    "stars1 = df[star1]\n",
    "stars2 = df[star2]\n",
    "stars3 = df[star3]"
   ]
  },
  {
   "cell_type": "markdown",
   "id": "1af5e001",
   "metadata": {},
   "source": [
    "### Find which country got how many michelin stars"
   ]
  },
  {
   "cell_type": "code",
   "execution_count": 41,
   "id": "aed93322",
   "metadata": {},
   "outputs": [
    {
     "data": {
      "text/html": [
       "<div>\n",
       "<style scoped>\n",
       "    .dataframe tbody tr th:only-of-type {\n",
       "        vertical-align: middle;\n",
       "    }\n",
       "\n",
       "    .dataframe tbody tr th {\n",
       "        vertical-align: top;\n",
       "    }\n",
       "\n",
       "    .dataframe thead th {\n",
       "        text-align: right;\n",
       "    }\n",
       "</style>\n",
       "<table border=\"1\" class=\"dataframe\">\n",
       "  <thead>\n",
       "    <tr style=\"text-align: right;\">\n",
       "      <th></th>\n",
       "      <th>Name</th>\n",
       "      <th>City</th>\n",
       "      <th>MinPrice</th>\n",
       "      <th>MaxPrice</th>\n",
       "      <th>Currency</th>\n",
       "      <th>Cuisine</th>\n",
       "      <th>Longitude</th>\n",
       "      <th>Latitude</th>\n",
       "      <th>PhoneNumber</th>\n",
       "      <th>Url</th>\n",
       "      <th>WebsiteUrl</th>\n",
       "      <th>Award</th>\n",
       "      <th>Converted MinPrice</th>\n",
       "      <th>Converted MaxPrice</th>\n",
       "      <th>Country</th>\n",
       "      <th>Region</th>\n",
       "    </tr>\n",
       "  </thead>\n",
       "  <tbody>\n",
       "    <tr>\n",
       "      <th>0</th>\n",
       "      <td>Ibaya</td>\n",
       "      <td>Soldeu</td>\n",
       "      <td>110</td>\n",
       "      <td>145</td>\n",
       "      <td>EUR</td>\n",
       "      <td>Creative, Modern Cuisine</td>\n",
       "      <td>1.670949</td>\n",
       "      <td>42.575577</td>\n",
       "      <td>3.768707e+08</td>\n",
       "      <td>https://guide.michelin.com/en/canillo/soldeu/r...</td>\n",
       "      <td>http://www.sporthotels.ad</td>\n",
       "      <td>1 MICHELIN Star</td>\n",
       "      <td>$121.61</td>\n",
       "      <td>$160.30</td>\n",
       "      <td>Andorra</td>\n",
       "      <td>Europe</td>\n",
       "    </tr>\n",
       "    <tr>\n",
       "      <th>9</th>\n",
       "      <td>Esszimmer</td>\n",
       "      <td>Salzburg</td>\n",
       "      <td>45</td>\n",
       "      <td>128</td>\n",
       "      <td>EUR</td>\n",
       "      <td>Creative, Classic Cuisine</td>\n",
       "      <td>13.034193</td>\n",
       "      <td>47.806695</td>\n",
       "      <td>4.366287e+10</td>\n",
       "      <td>https://guide.michelin.com/en/salzburg-region/...</td>\n",
       "      <td>https://www.esszimmer.com/</td>\n",
       "      <td>1 MICHELIN Star</td>\n",
       "      <td>$49.75</td>\n",
       "      <td>$141.51</td>\n",
       "      <td>Austria</td>\n",
       "      <td>Europe</td>\n",
       "    </tr>\n",
       "    <tr>\n",
       "      <th>10</th>\n",
       "      <td>The Glass Garden</td>\n",
       "      <td>Salzburg</td>\n",
       "      <td>63</td>\n",
       "      <td>163</td>\n",
       "      <td>EUR</td>\n",
       "      <td>Modern Cuisine</td>\n",
       "      <td>13.035690</td>\n",
       "      <td>47.803957</td>\n",
       "      <td>4.370000e+11</td>\n",
       "      <td>https://guide.michelin.com/en/salzburg-region/...</td>\n",
       "      <td>https://www.monchstein.at/</td>\n",
       "      <td>1 MICHELIN Star</td>\n",
       "      <td>$69.65</td>\n",
       "      <td>$180.20</td>\n",
       "      <td>Austria</td>\n",
       "      <td>Europe</td>\n",
       "    </tr>\n",
       "    <tr>\n",
       "      <th>11</th>\n",
       "      <td>Pfefferschiff</td>\n",
       "      <td>Salzburg</td>\n",
       "      <td>65</td>\n",
       "      <td>189</td>\n",
       "      <td>EUR</td>\n",
       "      <td>Classic Cuisine</td>\n",
       "      <td>13.079065</td>\n",
       "      <td>47.837920</td>\n",
       "      <td>4.366266e+10</td>\n",
       "      <td>https://guide.michelin.com/en/salzburg-region/...</td>\n",
       "      <td>https://www.pfefferschiff.at/</td>\n",
       "      <td>1 MICHELIN Star</td>\n",
       "      <td>$71.86</td>\n",
       "      <td>$208.94</td>\n",
       "      <td>Austria</td>\n",
       "      <td>Europe</td>\n",
       "    </tr>\n",
       "    <tr>\n",
       "      <th>12</th>\n",
       "      <td>APRON</td>\n",
       "      <td>Vienna</td>\n",
       "      <td>99</td>\n",
       "      <td>135</td>\n",
       "      <td>EUR</td>\n",
       "      <td>Creative, Seasonal Cuisine</td>\n",
       "      <td>16.376783</td>\n",
       "      <td>48.199514</td>\n",
       "      <td>4.319075e+09</td>\n",
       "      <td>https://guide.michelin.com/en/vienna/wien/rest...</td>\n",
       "      <td>https://www.restaurant-apron.at/</td>\n",
       "      <td>1 MICHELIN Star</td>\n",
       "      <td>$109.45</td>\n",
       "      <td>$149.24</td>\n",
       "      <td>Austria</td>\n",
       "      <td>Europe</td>\n",
       "    </tr>\n",
       "  </tbody>\n",
       "</table>\n",
       "</div>"
      ],
      "text/plain": [
       "                Name      City MinPrice MaxPrice Currency  \\\n",
       "0              Ibaya    Soldeu      110      145      EUR   \n",
       "9          Esszimmer  Salzburg       45      128      EUR   \n",
       "10  The Glass Garden  Salzburg       63      163      EUR   \n",
       "11     Pfefferschiff  Salzburg       65      189      EUR   \n",
       "12             APRON    Vienna       99      135      EUR   \n",
       "\n",
       "                       Cuisine  Longitude   Latitude   PhoneNumber  \\\n",
       "0     Creative, Modern Cuisine   1.670949  42.575577  3.768707e+08   \n",
       "9    Creative, Classic Cuisine  13.034193  47.806695  4.366287e+10   \n",
       "10              Modern Cuisine  13.035690  47.803957  4.370000e+11   \n",
       "11             Classic Cuisine  13.079065  47.837920  4.366266e+10   \n",
       "12  Creative, Seasonal Cuisine  16.376783  48.199514  4.319075e+09   \n",
       "\n",
       "                                                  Url  \\\n",
       "0   https://guide.michelin.com/en/canillo/soldeu/r...   \n",
       "9   https://guide.michelin.com/en/salzburg-region/...   \n",
       "10  https://guide.michelin.com/en/salzburg-region/...   \n",
       "11  https://guide.michelin.com/en/salzburg-region/...   \n",
       "12  https://guide.michelin.com/en/vienna/wien/rest...   \n",
       "\n",
       "                          WebsiteUrl            Award  Converted MinPrice   \\\n",
       "0          http://www.sporthotels.ad  1 MICHELIN Star             $121.61    \n",
       "9         https://www.esszimmer.com/  1 MICHELIN Star              $49.75    \n",
       "10        https://www.monchstein.at/  1 MICHELIN Star              $69.65    \n",
       "11     https://www.pfefferschiff.at/  1 MICHELIN Star              $71.86    \n",
       "12  https://www.restaurant-apron.at/  1 MICHELIN Star             $109.45    \n",
       "\n",
       "    Converted MaxPrice    Country  Region  \n",
       "0              $160.30    Andorra  Europe  \n",
       "9              $141.51    Austria  Europe  \n",
       "10             $180.20    Austria  Europe  \n",
       "11             $208.94    Austria  Europe  \n",
       "12             $149.24    Austria  Europe  "
      ]
     },
     "execution_count": 41,
     "metadata": {},
     "output_type": "execute_result"
    }
   ],
   "source": [
    "michelin_stars.head()"
   ]
  },
  {
   "cell_type": "markdown",
   "id": "df62b7c1",
   "metadata": {},
   "source": [
    "### So we can see that the award cant be summed up since it's a string. So we need to convert string to numeric and then sum up the award to know which country got how many michelin stars"
   ]
  },
  {
   "cell_type": "code",
   "execution_count": 69,
   "id": "7fd0fd15",
   "metadata": {},
   "outputs": [],
   "source": [
    "michelin_stars=michelin_stars.replace({\"1 MICHELIN Star\": 1, \"2 MICHELIN Star\": 2, \"3 MICHELIN Star\": 3})\n",
    "stars1=stars1.replace({\"1 MICHELIN Star\": 1})\n",
    "stars2=stars2.replace({\"2 MICHELIN Star\": 1})\n",
    "stars3=stars3.replace({\"3 MICHELIN Star\": 1})"
   ]
  },
  {
   "cell_type": "code",
   "execution_count": 59,
   "id": "3094ddf9",
   "metadata": {},
   "outputs": [
    {
     "data": {
      "text/plain": [
       "Country\n",
       " France            515\n",
       " Italy             326\n",
       " Japan             314\n",
       " Germany           271\n",
       " Spain             184\n",
       " United Kingdom    150\n",
       " United States     149\n",
       " Belgium           100\n",
       " Netherlands        91\n",
       " Switzerland        90\n",
       "China               88\n",
       " Hong Kong          52\n",
       " Singapore          41\n",
       " Thailand           26\n",
       " Portugal           26\n",
       "Taiwan              25\n",
       " South Korea        23\n",
       " Denmark            18\n",
       " Ireland            14\n",
       " Sweden             14\n",
       " Austria            11\n",
       " Croatia            10\n",
       " Brazil             10\n",
       " Norway              9\n",
       " Luxembourg          8\n",
       " Macau               7\n",
       " Hungary             7\n",
       " Finland             7\n",
       " Slovenia            5\n",
       " Malta               5\n",
       " Greece              5\n",
       " Czech Republic      2\n",
       " San Marino          1\n",
       " Poland              1\n",
       " Iceland             1\n",
       "France               1\n",
       " Andorra             1\n",
       "Name: Award, dtype: int64"
      ]
     },
     "execution_count": 59,
     "metadata": {},
     "output_type": "execute_result"
    }
   ],
   "source": [
    "michelin_stars.groupby('Country')['Award'].sum().sort_values(ascending = False)"
   ]
  },
  {
   "cell_type": "code",
   "execution_count": 60,
   "id": "80ec71dc",
   "metadata": {},
   "outputs": [
    {
     "data": {
      "text/plain": [
       "Region\n",
       "Europe           1873\n",
       "Asia              576\n",
       "North America     149\n",
       "South America      10\n",
       "Name: Award, dtype: int64"
      ]
     },
     "execution_count": 60,
     "metadata": {},
     "output_type": "execute_result"
    }
   ],
   "source": [
    "michelin_stars.groupby('Region')['Award'].sum().sort_values(ascending = False)"
   ]
  },
  {
   "cell_type": "code",
   "execution_count": 70,
   "id": "efb798c6",
   "metadata": {},
   "outputs": [
    {
     "data": {
      "text/plain": [
       "Country\n",
       " France            501\n",
       " Japan             437\n",
       " United States     365\n",
       " Germany           297\n",
       " Italy             253\n",
       " Spain             246\n",
       " Belgium           141\n",
       " Switzerland       136\n",
       " Thailand          133\n",
       " Netherlands       115\n",
       " United Kingdom    103\n",
       "Taiwan              90\n",
       "China               83\n",
       " Singapore          69\n",
       " Hong Kong          64\n",
       " South Korea        59\n",
       " Brazil             39\n",
       " Portugal           36\n",
       " Ireland            19\n",
       " Denmark            15\n",
       " Croatia            13\n",
       " Austria            12\n",
       " Sweden             12\n",
       " Luxembourg         11\n",
       " Macau               7\n",
       " Slovenia            7\n",
       " Czech Republic      5\n",
       " Poland              5\n",
       " Malta               4\n",
       " Greece              3\n",
       " Norway              2\n",
       " Finland             2\n",
       " Serbia              1\n",
       " Andorra             1\n",
       "Name: Award, dtype: int64"
      ]
     },
     "execution_count": 70,
     "metadata": {},
     "output_type": "execute_result"
    }
   ],
   "source": [
    "bib_gourmand=bib.replace({\"Bib Gourmand\": 1})\n",
    "bib_gourmand.groupby('Country')['Award'].sum().sort_values(ascending = False)"
   ]
  },
  {
   "cell_type": "code",
   "execution_count": 62,
   "id": "e62a76ab",
   "metadata": {},
   "outputs": [
    {
     "data": {
      "text/plain": [
       "Region\n",
       "Europe           1940\n",
       "Asia              942\n",
       "North America     365\n",
       "South America      39\n",
       "Name: Award, dtype: int64"
      ]
     },
     "execution_count": 62,
     "metadata": {},
     "output_type": "execute_result"
    }
   ],
   "source": [
    "bib_gourmand.groupby('Region')['Award'].sum().sort_values(ascending = False)"
   ]
  },
  {
   "cell_type": "code",
   "execution_count": null,
   "id": "215473cd",
   "metadata": {},
   "outputs": [],
   "source": []
  }
 ],
 "metadata": {
  "kernelspec": {
   "display_name": "Python 3 (ipykernel)",
   "language": "python",
   "name": "python3"
  },
  "language_info": {
   "codemirror_mode": {
    "name": "ipython",
    "version": 3
   },
   "file_extension": ".py",
   "mimetype": "text/x-python",
   "name": "python",
   "nbconvert_exporter": "python",
   "pygments_lexer": "ipython3",
   "version": "3.9.7"
  }
 },
 "nbformat": 4,
 "nbformat_minor": 5
}
