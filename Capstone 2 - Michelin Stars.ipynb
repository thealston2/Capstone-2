{
 "cells": [
  {
   "cell_type": "code",
   "execution_count": 9,
   "id": "b5544df3",
   "metadata": {},
   "outputs": [],
   "source": [
    "import matplotlib.pyplot as plt\n",
    "import pandas as pd\n",
    "import seaborn as sns\n",
    "\n",
    "df = pd.read_csv(\"C:/Users/Alston/Desktop/Capstone 2/michelin_my_maps.csv\")"
   ]
  },
  {
   "cell_type": "code",
   "execution_count": 10,
   "id": "80fa8eb3",
   "metadata": {},
   "outputs": [
    {
     "data": {
      "text/plain": [
       "Bib Gourmand        3286\n",
       "1 MICHELIN Star     2608\n",
       "2 MICHELIN Stars     473\n",
       "3 MICHELIN Stars     134\n",
       "Name: Award, dtype: int64"
      ]
     },
     "execution_count": 10,
     "metadata": {},
     "output_type": "execute_result"
    }
   ],
   "source": [
    "star_group = df.Award\n",
    "star_group.value_counts()"
   ]
  },
  {
   "cell_type": "code",
   "execution_count": 11,
   "id": "01a0c05b",
   "metadata": {},
   "outputs": [
    {
     "data": {
      "text/plain": [
       "Bib Gourmand        0.505461\n",
       "1 MICHELIN Star     0.401169\n",
       "2 MICHELIN Stars    0.072758\n",
       "3 MICHELIN Stars    0.020612\n",
       "Name: Award, dtype: float64"
      ]
     },
     "execution_count": 11,
     "metadata": {},
     "output_type": "execute_result"
    }
   ],
   "source": [
    "percentage = star_group.value_counts(normalize=True)\n",
    "percentage"
   ]
  },
  {
   "cell_type": "code",
   "execution_count": 12,
   "id": "b6bd447d",
   "metadata": {
    "scrolled": true
   },
   "outputs": [
    {
     "data": {
      "text/plain": [
       " France            1118\n",
       " Japan              843\n",
       " Italy              628\n",
       " Germany            623\n",
       " United States      563\n",
       " Spain              474\n",
       " United Kingdom     279\n",
       " Belgium            266\n",
       " Switzerland        252\n",
       " Netherlands        226\n",
       "China               190\n",
       " Thailand           165\n",
       " Hong Kong          135\n",
       "Taiwan              124\n",
       " Singapore          118\n",
       " South Korea         91\n",
       " Portugal            69\n",
       " Brazil              53\n",
       " Denmark             42\n",
       " Ireland             37\n",
       " Sweden              31\n",
       " Austria             30\n",
       " Croatia             23\n",
       " Macau               22\n",
       " Luxembourg          20\n",
       " Slovenia            13\n",
       " Norway              13\n",
       " Finland              9\n",
       " Greece               9\n",
       " Malta                9\n",
       " Hungary              7\n",
       " Czech Republic       7\n",
       " Poland               6\n",
       " Andorra              2\n",
       " Serbia               1\n",
       " San Marino           1\n",
       " Iceland              1\n",
       "France                1\n",
       "Name: Country, dtype: int64"
      ]
     },
     "execution_count": 12,
     "metadata": {},
     "output_type": "execute_result"
    }
   ],
   "source": [
    "countries = df.Country.value_counts()\n",
    "countries"
   ]
  },
  {
   "cell_type": "code",
   "execution_count": 13,
   "id": "6658b0c2",
   "metadata": {},
   "outputs": [
    {
     "data": {
      "text/plain": [
       " France            0.171974\n",
       " Japan             0.129672\n",
       " Italy             0.096601\n",
       " Germany           0.095831\n",
       " United States     0.086602\n",
       " Spain             0.072912\n",
       " United Kingdom    0.042916\n",
       " Belgium           0.040917\n",
       " Switzerland       0.038763\n",
       " Netherlands       0.034764\n",
       "China              0.029226\n",
       " Thailand          0.025381\n",
       " Hong Kong         0.020766\n",
       "Taiwan             0.019074\n",
       " Singapore         0.018151\n",
       " South Korea       0.013998\n",
       " Portugal          0.010614\n",
       "Name: Country, dtype: float64"
      ]
     },
     "execution_count": 13,
     "metadata": {},
     "output_type": "execute_result"
    }
   ],
   "source": [
    "countries_percentage = df.Country.value_counts(normalize=True).head(17)\n",
    "countries_percentage"
   ]
  },
  {
   "cell_type": "code",
   "execution_count": 14,
   "id": "cb72af85",
   "metadata": {},
   "outputs": [
    {
     "data": {
      "text/plain": [
       "Europe           4197\n",
       "Asia             1688\n",
       "North America     563\n",
       "South America      53\n",
       "Name: Region, dtype: int64"
      ]
     },
     "execution_count": 14,
     "metadata": {},
     "output_type": "execute_result"
    }
   ],
   "source": [
    "region = df.Region.value_counts()\n",
    "region"
   ]
  },
  {
   "cell_type": "code",
   "execution_count": 15,
   "id": "bb4662d4",
   "metadata": {},
   "outputs": [
    {
     "data": {
      "text/plain": [
       "Europe           0.645593\n",
       "Asia             0.259652\n",
       "North America    0.086602\n",
       "South America    0.008153\n",
       "Name: Region, dtype: float64"
      ]
     },
     "execution_count": 15,
     "metadata": {},
     "output_type": "execute_result"
    }
   ],
   "source": [
    "region_percentage = df.Region.value_counts(normalize=True)\n",
    "region_percentage"
   ]
  },
  {
   "cell_type": "code",
   "execution_count": 16,
   "id": "d100fca9",
   "metadata": {},
   "outputs": [],
   "source": [
    "star1 = (df['Award'] == '1 MICHELIN Star')\n",
    "star2 = (df['Award'] == '2 MICHELIN Star')\n",
    "star3 = (df['Award'] == '3 MICHELIN Star')\n",
    "bib = (df['Award'] == 'Bib Gourmand')\n",
    "\n",
    "michelin_stars = df[star3|star2|star1]\n"
   ]
  },
  {
   "cell_type": "code",
   "execution_count": 24,
   "id": "19093cdf",
   "metadata": {},
   "outputs": [
    {
     "data": {
      "text/plain": [
       "<pandas.core.groupby.generic.SeriesGroupBy object at 0x0000014761CBB580>"
      ]
     },
     "execution_count": 24,
     "metadata": {},
     "output_type": "execute_result"
    }
   ],
   "source": [
    "star_countries = michelin_stars.groupby(['Country'])\n",
    "star_countries['Award']\n"
   ]
  },
  {
   "cell_type": "code",
   "execution_count": 25,
   "id": "a4b619a7",
   "metadata": {},
   "outputs": [
    {
     "name": "stdout",
     "output_type": "stream",
     "text": [
      "                      Name      City MinPrice MaxPrice Currency  \\\n",
      "0                    Ibaya    Soldeu      110      145      EUR   \n",
      "9                Esszimmer  Salzburg       45      128      EUR   \n",
      "10        The Glass Garden  Salzburg       63      163      EUR   \n",
      "11           Pfefferschiff  Salzburg       65      189      EUR   \n",
      "12                   APRON    Vienna       99      135      EUR   \n",
      "...                    ...       ...      ...      ...      ...   \n",
      "6406                 Mipon    Taipei    2,500    3,800      TWD   \n",
      "6407                Da-Wan    Taipei    5,000    5,000      TWD   \n",
      "6408                 Ya Ge    Taipei    1,680    8,800      TWD   \n",
      "6409                Kitcho    Taipei    4,500    7,000      TWD   \n",
      "6500  Château de la Treyne    Lacave       55      170      EUR   \n",
      "\n",
      "                         Cuisine   Longitude   Latitude   PhoneNumber  \\\n",
      "0       Creative, Modern Cuisine    1.670949  42.575577  3.768707e+08   \n",
      "9      Creative, Classic Cuisine   13.034193  47.806695  4.366287e+10   \n",
      "10                Modern Cuisine   13.035690  47.803957  4.370000e+11   \n",
      "11               Classic Cuisine   13.079065  47.837920  4.366266e+10   \n",
      "12    Creative, Seasonal Cuisine   16.376783  48.199514  4.319075e+09   \n",
      "...                          ...         ...        ...           ...   \n",
      "6406                   Taiwanese  121.553771  25.080093  8.860000e+11   \n",
      "6407                    Barbecue  121.550788  25.043045  8.860000e+11   \n",
      "6408                   Cantonese  121.548660  25.055005  8.860000e+11   \n",
      "6409                       Sushi  121.551365  25.043965  8.860000e+11   \n",
      "6500             Classic Cuisine    1.525388  44.849474  3.356528e+10   \n",
      "\n",
      "                                                    Url  \\\n",
      "0     https://guide.michelin.com/en/canillo/soldeu/r...   \n",
      "9     https://guide.michelin.com/en/salzburg-region/...   \n",
      "10    https://guide.michelin.com/en/salzburg-region/...   \n",
      "11    https://guide.michelin.com/en/salzburg-region/...   \n",
      "12    https://guide.michelin.com/en/vienna/wien/rest...   \n",
      "...                                                 ...   \n",
      "6406  https://guide.michelin.com/en/taipei-region/ta...   \n",
      "6407  https://guide.michelin.com/en/taipei-region/ta...   \n",
      "6408  https://guide.michelin.com/en/taipei-region/ta...   \n",
      "6409  https://guide.michelin.com/en/taipei-region/ta...   \n",
      "6500  https://guide.michelin.com/en/occitanie/lacave...   \n",
      "\n",
      "                                   WebsiteUrl            Award  \\\n",
      "0                   http://www.sporthotels.ad  1 MICHELIN Star   \n",
      "9                  https://www.esszimmer.com/  1 MICHELIN Star   \n",
      "10                 https://www.monchstein.at/  1 MICHELIN Star   \n",
      "11              https://www.pfefferschiff.at/  1 MICHELIN Star   \n",
      "12           https://www.restaurant-apron.at/  1 MICHELIN Star   \n",
      "...                                       ...              ...   \n",
      "6406            https://www.grandmayfull.com/  1 MICHELIN Star   \n",
      "6407                https://www.dawan.com.tw/  1 MICHELIN Star   \n",
      "6408  https://www.mandarinoriental.com/taipei  1 MICHELIN Star   \n",
      "6409                                      NaN  1 MICHELIN Star   \n",
      "6500       https://www.chateaudelatreyne.com/  1 MICHELIN Star   \n",
      "\n",
      "      Converted MinPrice   Converted MaxPrice              Unnamed: 14  \\\n",
      "0                $121.61              $160.30      Carretera General 2   \n",
      "9                 $49.75              $141.51   Müllner Hauptstraße 33   \n",
      "10                $69.65              $180.20       Mönchsberg Park 26   \n",
      "11                $71.86              $208.94               Söllheim 3   \n",
      "12               $109.45              $149.24           Am Heumarkt 35   \n",
      "...                   ...                  ...                     ...   \n",
      "6406              $87.13              $132.44        55 Lequn 2nd Road   \n",
      "6407             $174.26              $174.26                       22   \n",
      "6408              $58.55              $306.69    158 Dunhua North Road   \n",
      "6409             $156.83              $243.96                       48   \n",
      "6500              $60.80              $187.94                   Lacave   \n",
      "\n",
      "       Country  Region  \n",
      "0      Andorra  Europe  \n",
      "9      Austria  Europe  \n",
      "10     Austria  Europe  \n",
      "11     Austria  Europe  \n",
      "12     Austria  Europe  \n",
      "...        ...     ...  \n",
      "6406    Taiwan    Asia  \n",
      "6407    Taiwan    Asia  \n",
      "6408    Taiwan    Asia  \n",
      "6409    Taiwan    Asia  \n",
      "6500    France  Europe  \n",
      "\n",
      "[2608 rows x 17 columns]\n"
     ]
    }
   ],
   "source": [
    "print(michelin_stars)"
   ]
  },
  {
   "cell_type": "code",
   "execution_count": null,
   "id": "80ec71dc",
   "metadata": {},
   "outputs": [],
   "source": []
  }
 ],
 "metadata": {
  "kernelspec": {
   "display_name": "Python 3 (ipykernel)",
   "language": "python",
   "name": "python3"
  },
  "language_info": {
   "codemirror_mode": {
    "name": "ipython",
    "version": 3
   },
   "file_extension": ".py",
   "mimetype": "text/x-python",
   "name": "python",
   "nbconvert_exporter": "python",
   "pygments_lexer": "ipython3",
   "version": "3.9.7"
  }
 },
 "nbformat": 4,
 "nbformat_minor": 5
}
